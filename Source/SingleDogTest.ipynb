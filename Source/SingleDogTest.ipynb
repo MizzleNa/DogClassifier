{
 "cells": [
  {
   "cell_type": "code",
   "execution_count": 1,
   "metadata": {
    "collapsed": true
   },
   "outputs": [],
   "source": [
    "import os\n",
    "import numpy as np\n",
    "import tensorflow as tf\n",
    "import warnings\n",
    "warnings.filterwarnings('ignore')\n",
    "from dog_images import DogImages\n",
    "from image_classifier import ImageClassifier\n",
    "from sklearn.model_selection import GridSearchCV\n",
    "import matplotlib.pyplot as plt"
   ]
  },
  {
   "cell_type": "code",
   "execution_count": 2,
   "metadata": {},
   "outputs": [
    {
     "name": "stdout",
     "output_type": "stream",
     "text": [
      "n02097474-Tibetan_terrier\n"
     ]
    }
   ],
   "source": [
    "picsize = 128\n",
    "# Step 1: Get List of Dogs\n",
    "lst = [x[0] for x in os.walk('../Images')]\n",
    "lst_dogs = [a.replace('../Images/', '') for a in lst[1:]]\n",
    "print(lst_dogs[0])"
   ]
  },
  {
   "cell_type": "code",
   "execution_count": 3,
   "metadata": {},
   "outputs": [
    {
     "name": "stdout",
     "output_type": "stream",
     "text": [
      "n02096177-cairn\n"
     ]
    }
   ],
   "source": [
    "# Step 2: Make the Images...\n",
    "dog_images = DogImages(lst_dogs, picsize)\n",
    "# dog_images.generate_img_files()\n",
    "train_imgs = dog_images.load_images('train')\n",
    "test_imgs = dog_images.load_images('test')\n",
    "Xtest = test_imgs[0]\n",
    "Ytest = test_imgs[1]\n",
    "Xtrain = train_imgs[0]\n",
    "Ytrain = train_imgs[1]\n",
    "print(lst_dogs[-1])"
   ]
  },
  {
   "cell_type": "code",
   "execution_count": 4,
   "metadata": {},
   "outputs": [
    {
     "name": "stdout",
     "output_type": "stream",
     "text": [
      "done\n"
     ]
    }
   ],
   "source": [
    "# Step 3: Initial Shuffle of Train & Test Sets\n",
    "Xhold = Xtrain.copy()\n",
    "Yhold = Ytrain.copy()\n",
    "new = np.array([i for i in range(Xhold.shape[0])])\n",
    "np.random.shuffle(new)\n",
    "for i, n in enumerate(new):\n",
    "    Xtrain[i, :] = Xhold[n, :]\n",
    "    Ytrain[i, :] = Yhold[n, :]\n",
    "\n",
    "Xhold = Xtest\n",
    "Yhold = Ytest\n",
    "new = np.array([i for i in range(Xhold.shape[0])])\n",
    "np.random.shuffle(new)\n",
    "for i, n in enumerate(new):\n",
    "    Xtest[i, :] = Xhold[n, :]\n",
    "    Ytest[i, :] = Yhold[n, :]\n",
    "print('done')"
   ]
  },
  {
   "cell_type": "code",
   "execution_count": 5,
   "metadata": {
    "collapsed": true
   },
   "outputs": [],
   "source": [
    "def shuffle_function(X, y):\n",
    "    Xhold = X.copy()\n",
    "    Yhold = y.copy()\n",
    "    new = np.array([i for i in range(Xhold.shape[0])])\n",
    "    np.random.shuffle(new)\n",
    "    for i, n in enumerate(new):\n",
    "        X[i, :] = Xhold[n, :]\n",
    "        y[i, :] = Yhold[n, :]\n",
    "    return X, y"
   ]
  },
  {
   "cell_type": "code",
   "execution_count": 6,
   "metadata": {
    "collapsed": true
   },
   "outputs": [],
   "source": [
    "def plot_learning(model):\n",
    "    plt.plot(list(range(len(model.loss_function))),\n",
    "             model.loss_function, color='y', label='Loss/Max Loss')\n",
    "    plt.plot(list(range(len(model.train_accuracies))),\n",
    "             (1/len(model.classes))*np.ones(len(model.train_accuracies)),\n",
    "             linestyle='-', label='chance')\n",
    "    plt.plot(list(range(len(model.train_accuracies))),\n",
    "             model.train_accuracies, color='r', label='Training')\n",
    "    plt.plot(list(range(len(model.val_accuracies))),\n",
    "             model.val_accuracies, color='b', label='Validation')\n",
    "    plt.ylabel('Probability')\n",
    "    plt.xlabel('Epochs')\n",
    "    plt.title('Accuracy & Loss')\n",
    "    plt.ylim(ymax=1)\n",
    "    plt.ylim(ymin=0)\n",
    "    plt.legend()\n",
    "    plt.show()"
   ]
  },
  {
   "cell_type": "code",
   "execution_count": 7,
   "metadata": {
    "collapsed": true
   },
   "outputs": [],
   "source": [
    "N = 27"
   ]
  },
  {
   "cell_type": "code",
   "execution_count": 8,
   "metadata": {
    "collapsed": true
   },
   "outputs": [],
   "source": [
    "# need 0:1 to get 0... it's a weird numpy thing\n",
    "# so for lst_dogs[N], go Yt...[:, N:N + 1] \n",
    "Ytrain_1 = np.zeros((Ytrain.shape[0],2))\n",
    "Ytest_1 = np.zeros((Ytest.shape[0],2))\n",
    "\n",
    "Ytrain_1[Ytrain[:,N]==1] = [1, 0]\n",
    "Ytrain_1[Ytrain[:,N]==0] = [0, 1]\n",
    "\n",
    "Ytest_1[Ytest[:,N]==1] = [1, 0]\n",
    "Ytest_1[Ytest[:,N]==0] = [0, 1]\n"
   ]
  },
  {
   "cell_type": "code",
   "execution_count": 9,
   "metadata": {
    "collapsed": true
   },
   "outputs": [],
   "source": [
    "Ytrain_a = Ytrain_1[Ytrain_1[:,0] == 1]\n",
    "Xtrain_a = Xtrain[Ytrain_1[:,0] == 1]\n",
    "Ytrain_b = Ytrain_1[Ytrain_1[:,0] == 0][:3*Ytrain_a.shape[0]]\n",
    "Xtrain_b = Xtrain[Ytrain_1[:,0] == 0][:3*Ytrain_a.shape[0]]"
   ]
  },
  {
   "cell_type": "code",
   "execution_count": 10,
   "metadata": {
    "collapsed": true
   },
   "outputs": [],
   "source": [
    "Ytrain_run = np.concatenate((Ytrain_a, Ytrain_b))\n",
    "Xtrain_run = np.concatenate((Xtrain_a, Xtrain_b))"
   ]
  },
  {
   "cell_type": "code",
   "execution_count": 11,
   "metadata": {},
   "outputs": [
    {
     "data": {
      "text/plain": [
       "array([[ 1.,  0.],\n",
       "       [ 1.,  0.],\n",
       "       [ 1.,  0.],\n",
       "       ..., \n",
       "       [ 0.,  1.],\n",
       "       [ 0.,  1.],\n",
       "       [ 0.,  1.]])"
      ]
     },
     "execution_count": 11,
     "metadata": {},
     "output_type": "execute_result"
    }
   ],
   "source": [
    "Ytrain_run"
   ]
  },
  {
   "cell_type": "code",
   "execution_count": 12,
   "metadata": {},
   "outputs": [
    {
     "name": "stdout",
     "output_type": "stream",
     "text": [
      "['n02097474-Tibetan_terrier', 'n02108089-boxer', 'n02100877-Irish_setter', 'n02115913-dhole', 'n02093256-Staffordshire_bullterrier', 'n02108422-bull_mastiff', 'n02093754-Border_terrier', 'n02110063-malamute', 'n02112018-Pomeranian', 'n02095314-wire-haired_fox_terrier', 'n02102973-Irish_water_spaniel', 'n02101388-Brittany_spaniel', 'n02109047-Great_Dane', 'n02098286-West_Highland_white_terrier', 'n02090721-Irish_wolfhound', 'n02096437-Dandie_Dinmont', 'n02112706-Brabancon_griffon', 'n02113186-Cardigan', 'n02105412-kelpie', 'n02093859-Kerry_blue_terrier', 'n02089973-English_foxhound', 'n02091635-otterhound', 'n02108551-Tibetan_mastiff', 'n02113799-standard_poodle', 'n02096051-Airedale', 'n02116738-African_hunting_dog', 'n02106382-Bouvier_des_Flandres', 'n02109961-Eskimo_dog', 'n02088238-basset', 'n02095570-Lakeland_terrier', 'n02100735-English_setter', 'n02110958-pug', 'n02102318-cocker_spaniel', 'n02111500-Great_Pyrenees', 'n02085620-Chihuahua', 'n02111889-Samoyed', 'n02095889-Sealyham_terrier', 'n02108000-EntleBucher', 'n02112137-chow', 'n02085782-Japanese_spaniel', 'n02106166-Border_collie', 'n02111129-Leonberg', 'n02097658-silky_terrier', 'n02099429-curly-coated_retriever', 'n02102480-Sussex_spaniel', 'n02097209-standard_schnauzer', 'n02107142-Doberman', 'n02104029-kuvasz', 'n02086646-Blenheim_spaniel', 'n02106030-collie', 'n02099712-Labrador_retriever', 'n02112350-keeshond', 'n02085936-Maltese_dog', 'n02092002-Scottish_deerhound', 'n02108915-French_bulldog', 'n02101556-clumber', 'n02101006-Gordon_setter', 'n02098105-soft-coated_wheaten_terrier', 'n02094258-Norwich_terrier', 'n02093991-Irish_terrier', 'n02092339-Weimaraner', 'n02088364-beagle', 'n02111277-Newfoundland', 'n02105505-komondor', 'n02110806-basenji', 'n02088632-bluetick', 'n02099267-flat-coated_retriever', 'n02091134-whippet', 'n02109525-Saint_Bernard', 'n02105855-Shetland_sheepdog', 'n02087046-toy_terrier', 'n02094114-Norfolk_terrier', 'n02091467-Norwegian_elkhound', 'n02096585-Boston_bull', 'n02091831-Saluki', 'n02100236-German_short-haired_pointer', 'n02090379-redbone', 'n02107908-Appenzeller', 'n02099849-Chesapeake_Bay_retriever', 'n02110185-Siberian_husky', 'n02106550-Rottweiler', 'n02086240-Shih-Tzu', 'n02086910-papillon', 'n02086079-Pekinese', 'n02113712-miniature_poodle', 'n02087394-Rhodesian_ridgeback', 'n02090622-borzoi', 'n02113624-toy_poodle', 'n02093428-American_Staffordshire_terrier', 'n02107312-miniature_pinscher', 'n02105162-malinois', 'n02113023-Pembroke', 'n02102177-Welsh_springer_spaniel', 'n02107683-Bernese_mountain_dog', 'n02097298-Scotch_terrier', 'n02097130-giant_schnauzer', 'n02089867-Walker_hound', 'n02091032-Italian_greyhound', 'n02094433-Yorkshire_terrier', 'n02107574-Greater_Swiss_Mountain_dog', 'n02088466-bloodhound', 'n02097047-miniature_schnauzer', 'n02096294-Australian_terrier', 'n02088094-Afghan_hound', 'n02102040-English_springer', 'n02100583-vizsla', 'n02105251-briard', 'n02106662-German_shepherd', 'n02110627-affenpinscher', 'n02099601-golden_retriever', 'n02091244-Ibizan_hound', 'n02098413-Lhasa', 'n02115641-dingo', 'n02113978-Mexican_hairless', 'n02105056-groenendael', 'n02089078-black-and-tan_coonhound', 'n02105641-Old_English_sheepdog', 'n02104365-schipperke', 'n02093647-Bedlington_terrier', 'n02096177-cairn']\n"
     ]
    }
   ],
   "source": [
    "lst_dogs_1 = [lst_dogs[N], 'None']\n",
    "print(lst_dogs)"
   ]
  },
  {
   "cell_type": "code",
   "execution_count": null,
   "metadata": {},
   "outputs": [
    {
     "name": "stdout",
     "output_type": "stream",
     "text": [
      "[[ 0.  1.]\n",
      " [ 0.  1.]\n",
      " [ 0.  1.]\n",
      " ..., \n",
      " [ 1.  0.]\n",
      " [ 1.  0.]\n",
      " [ 0.  1.]]\n"
     ]
    }
   ],
   "source": [
    "\n",
    "Xtrain_run, Ytrain_run = shuffle_function(Xtrain_run, Ytrain_run)\n",
    "print(Ytrain_run)"
   ]
  },
  {
   "cell_type": "code",
   "execution_count": null,
   "metadata": {},
   "outputs": [
    {
     "name": "stdout",
     "output_type": "stream",
     "text": [
      "Percent Complete: 3.2857% - Train Accuracy: 83.673% - Validation Accuracy: 75.439% - Loss Function: 1375.5768"
     ]
    }
   ],
   "source": [
    "\n",
    "lst_ch = [6,12,18,24]\n",
    "lst_l = [0.01, 0.001, 0.0001]\n",
    "lst_h = [300, 450, 600]\n",
    "lst_reg = [0.25, 0.5, 0.75, 1.0]\n",
    "lst_b = [50,75,100,200]\n",
    "best_score = 0.0\n",
    "best_i = 0\n",
    "best_j = 0\n",
    "\n",
    "for i in lst_b:\n",
    "    for j in lst_ch:\n",
    "        model = ImageClassifier(picsize, lst_dogs_1,\n",
    "                                 out_channels = j,\n",
    "                                 out_channels_2 = 2*j,\n",
    "                                 hidden_units = 600,\n",
    "                                 regularization_strength = 0.5,\n",
    "                                 batch_size = i,\n",
    "                                 learning_rate = 0.001,\n",
    "                                 convolution_size = 5,\n",
    "                                 pool_size = 2,\n",
    "                                 training_epochs = 50,\n",
    "                                 loss_threshold = 10.0,\n",
    "                                 verbose=True,\n",
    "                                 grid_search=True)\n",
    "        model.fit(Xtrain_run, Ytrain_run)\n",
    "        score = model.score(Xtest, Ytest_1)\n",
    "        model.sess.close()\n",
    "        print(' ', i, j, score)\n",
    "        if score > best_score:\n",
    "            best_score = score\n",
    "            best_i = i\n",
    "            best_j = j\n",
    "        print(best_score,best_i,best_j)\n",
    "print(best_score,best_i,best_j)"
   ]
  },
  {
   "cell_type": "code",
   "execution_count": null,
   "metadata": {},
   "outputs": [],
   "source": [
    "model = ImageClassifier(picsize, lst_dogs,\n",
    "                                 out_channels = 12,\n",
    "                                 out_channels_2 = 24,\n",
    "                                 hidden_units = 50,\n",
    "                                 regularization_strength = 1.0,\n",
    "                                 batch_size = 50,\n",
    "                                 learning_rate = 0.0001,\n",
    "                                 convolution_size = 5,\n",
    "                                 pool_size = 2,\n",
    "                                 training_epochs = 100,\n",
    "                                 loss_threshold = 0.01,\n",
    "                                 verbose=True,\n",
    "                                 grid_search=True)\n",
    "\n",
    "model.fit(Xtrain_run, Ytrain_run)\n",
    "plot_learning(model)\n",
    "score = model.score(Xtest, Ytest_1)\n",
    "model.sess.close()\n",
    "print(score)"
   ]
  },
  {
   "cell_type": "code",
   "execution_count": null,
   "metadata": {
    "collapsed": true
   },
   "outputs": [],
   "source": []
  }
 ],
 "metadata": {
  "kernelspec": {
   "display_name": "Python 3",
   "language": "python",
   "name": "python3"
  },
  "language_info": {
   "codemirror_mode": {
    "name": "ipython",
    "version": 3
   },
   "file_extension": ".py",
   "mimetype": "text/x-python",
   "name": "python",
   "nbconvert_exporter": "python",
   "pygments_lexer": "ipython3",
   "version": "3.5.4"
  }
 },
 "nbformat": 4,
 "nbformat_minor": 2
}
