{
 "cells": [
  {
   "cell_type": "code",
   "execution_count": 1,
   "metadata": {
    "collapsed": true
   },
   "outputs": [],
   "source": [
    "import os\n",
    "import numpy as np\n",
    "import tensorflow as tf\n",
    "import warnings\n",
    "warnings.filterwarnings('ignore')\n",
    "from dog_images import DogImages\n",
    "from image_classifier import ImageClassifier\n",
    "from sklearn.model_selection import GridSearchCV\n",
    "import matplotlib.pyplot as plt"
   ]
  },
  {
   "cell_type": "code",
   "execution_count": 2,
   "metadata": {},
   "outputs": [
    {
     "name": "stdout",
     "output_type": "stream",
     "text": [
      "n02097474-Tibetan_terrier\n"
     ]
    }
   ],
   "source": [
    "picsize = 128\n",
    "# Step 1: Get List of Dogs\n",
    "lst = [x[0] for x in os.walk('../Images')]\n",
    "lst_dogs = [a.replace('../Images/', '') for a in lst[1:]]\n",
    "print(lst_dogs[0])"
   ]
  },
  {
   "cell_type": "code",
   "execution_count": 3,
   "metadata": {},
   "outputs": [
    {
     "name": "stdout",
     "output_type": "stream",
     "text": [
      "n02096177-cairn\n"
     ]
    }
   ],
   "source": [
    "# Step 2: Make the Images...\n",
    "dog_images = DogImages(lst_dogs, picsize)\n",
    "# dog_images.generate_img_files()\n",
    "train_imgs = dog_images.load_images('train')\n",
    "test_imgs = dog_images.load_images('test')\n",
    "Xtest = test_imgs[0]\n",
    "Ytest = test_imgs[1]\n",
    "Xtrain = train_imgs[0]\n",
    "Ytrain = train_imgs[1]\n",
    "print(lst_dogs[-1])"
   ]
  },
  {
   "cell_type": "code",
   "execution_count": 4,
   "metadata": {},
   "outputs": [
    {
     "name": "stdout",
     "output_type": "stream",
     "text": [
      "done\n"
     ]
    }
   ],
   "source": [
    "# Step 3: Initial Shuffle of Train & Test Sets\n",
    "Xhold = Xtrain.copy()\n",
    "Yhold = Ytrain.copy()\n",
    "new = np.array([i for i in range(Xhold.shape[0])])\n",
    "np.random.shuffle(new)\n",
    "for i, n in enumerate(new):\n",
    "    Xtrain[i, :] = Xhold[n, :]\n",
    "    Ytrain[i, :] = Yhold[n, :]\n",
    "\n",
    "Xhold = Xtest\n",
    "Yhold = Ytest\n",
    "new = np.array([i for i in range(Xhold.shape[0])])\n",
    "np.random.shuffle(new)\n",
    "for i, n in enumerate(new):\n",
    "    Xtest[i, :] = Xhold[n, :]\n",
    "    Ytest[i, :] = Yhold[n, :]\n",
    "print('done')"
   ]
  },
  {
   "cell_type": "code",
   "execution_count": 5,
   "metadata": {
    "collapsed": true
   },
   "outputs": [],
   "source": [
    "def plot_learning(model):\n",
    "    plt.plot(list(range(len(model.loss_function))),\n",
    "             model.loss_function, color='y', label='Loss/Max Loss')\n",
    "    plt.plot(list(range(len(model.train_accuracies))),\n",
    "             (1/len(model.classes))*np.ones(len(model.train_accuracies)),\n",
    "             linestyle='-', label='chance')\n",
    "    plt.plot(list(range(len(model.train_accuracies))),\n",
    "             model.train_accuracies, color='r', label='Training')\n",
    "    plt.plot(list(range(len(model.val_accuracies))),\n",
    "             model.val_accuracies, color='b', label='Validation')\n",
    "    plt.ylabel('Probability')\n",
    "    plt.xlabel('Epochs')\n",
    "    plt.title('Accuracy & Loss')\n",
    "    plt.ylim(ymax=1)\n",
    "    plt.ylim(ymin=0)\n",
    "    plt.legend()\n",
    "    plt.show()"
   ]
  },
  {
   "cell_type": "code",
   "execution_count": 6,
   "metadata": {},
   "outputs": [
    {
     "data": {
      "text/plain": [
       "(31662, 120)"
      ]
     },
     "execution_count": 6,
     "metadata": {},
     "output_type": "execute_result"
    }
   ],
   "source": [
    "# now, set to only check if the dog is, in fact, a given breed...\n",
    "Ytrain.shape"
   ]
  },
  {
   "cell_type": "code",
   "execution_count": 7,
   "metadata": {
    "collapsed": true
   },
   "outputs": [],
   "source": [
    "Ytrain = Ytrain[:,:2]\n",
    "Ytest = Ytest[:,:2]\n",
    "Ytrain[:, 1] = 0\n",
    "Ytest[:, 1] = 0\n",
    "Ytrain[Ytrain[:,0]==0][:,1]=1\n",
    "Ytest[Ytest[:,0]==0][:,1]=1"
   ]
  },
  {
   "cell_type": "code",
   "execution_count": 8,
   "metadata": {},
   "outputs": [],
   "source": [
    "lst_dogs = lst_dogs[:2]"
   ]
  },
  {
   "cell_type": "code",
   "execution_count": 9,
   "metadata": {},
   "outputs": [],
   "source": [
    "lst_dogs[1] = ''"
   ]
  },
  {
   "cell_type": "code",
   "execution_count": null,
   "metadata": {},
   "outputs": [
    {
     "data": {
      "text/plain": [
       "['n02097474-Tibetan_terrier', '']"
      ]
     },
     "execution_count": 10,
     "metadata": {},
     "output_type": "execute_result"
    }
   ],
   "source": [
    "lst_dogs"
   ]
  },
  {
   "cell_type": "code",
   "execution_count": null,
   "metadata": {},
   "outputs": [
    {
     "name": "stdout",
     "output_type": "stream",
     "text": [
      "Percent Complete: 110.0000% - Train Accuracy: 100.000% - Validation Accuracy: 100.000% - Loss Function: 925438.5625  2 6 1.0\n",
      "1.0 2 6\n",
      "Percent Complete: 110.0000% - Train Accuracy: 0.000% - Validation Accuracy: 0.000% - Loss Function: 2691231.25005000  2 12 0.0\n",
      "1.0 2 6\n",
      "Percent Complete: 30.0000% - Train Accuracy: 0.000% - Validation Accuracy: 0.000% - Loss Function: 11.1117--  2 24 0.0\n",
      "1.0 2 6\n",
      "Percent Complete: 110.0000% - Train Accuracy: 0.000% - Validation Accuracy: 0.000% - Loss Function: 837117.12505000  10 6 0.0\n",
      "1.0 2 6\n",
      "Percent Complete: 110.0000% - Train Accuracy: 100.000% - Validation Accuracy: 100.000% - Loss Function: 5090727.0000  10 12 1.0\n",
      "1.0 2 6\n",
      "Percent Complete: 110.0000% - Train Accuracy: 100.000% - Validation Accuracy: 100.000% - Loss Function: 20383368.0000  10 24 1.0\n",
      "1.0 2 6\n",
      "Percent Complete: 110.0000% - Train Accuracy: 100.000% - Validation Accuracy: 100.000% - Loss Function: 6296692.0000  50 6 1.0\n",
      "1.0 2 6\n",
      "Percent Complete: 110.0000% - Train Accuracy: 100.000% - Validation Accuracy: 100.000% - Loss Function: 30922154.0000  50 12 1.0\n",
      "1.0 2 6\n",
      "Percent Complete: 49.7619% - Train Accuracy: 100.000% - Validation Accuracy: 100.000% - Loss Function: 1688522.6250"
     ]
    }
   ],
   "source": [
    "from image_classifier import ImageClassifier\n",
    "\n",
    "\n",
    "lst_ch = [6, 12, 24]\n",
    "lst_l = [0.01, 0.001, 0.0001]\n",
    "lst_h = [2, 10, 50, 100]\n",
    "lst_reg = [0.25, 0.5, 0.75, 1.0]\n",
    "lst_b = [150, 200, 300]\n",
    "best_score = 0.0\n",
    "best_i = 0\n",
    "best_j = 0\n",
    "\n",
    "for i in lst_h:\n",
    "    for j in lst_ch:\n",
    "        model = ImageClassifier(picsize, lst_dogs,\n",
    "                                 out_channels = j,\n",
    "                                 out_channels_2 = 2*j,\n",
    "                                 hidden_units = i,\n",
    "                                 regularization_strength = 0.5,\n",
    "                                 batch_size = 300,\n",
    "                                 learning_rate = 0.001,\n",
    "                                 convolution_size = 5,\n",
    "                                 pool_size = 2,\n",
    "                                 training_epochs = 10,\n",
    "                                 loss_threshold = 10.0,\n",
    "                                 verbose=True,\n",
    "                                 grid_search=True)\n",
    "        model.fit(Xtrain, Ytrain)\n",
    "        score = model.score(Xtest, Ytest)\n",
    "        print(' ', i, j, score)\n",
    "        if score > best_score:\n",
    "            best_score = score\n",
    "            best_i = i\n",
    "            best_j = j\n",
    "        print(best_score,best_i,best_j)\n",
    "print(best_score,best_i,best_j)"
   ]
  },
  {
   "cell_type": "code",
   "execution_count": null,
   "metadata": {
    "collapsed": true
   },
   "outputs": [],
   "source": []
  }
 ],
 "metadata": {
  "kernelspec": {
   "display_name": "Python 3",
   "language": "python",
   "name": "python3"
  },
  "language_info": {
   "codemirror_mode": {
    "name": "ipython",
    "version": 3
   },
   "file_extension": ".py",
   "mimetype": "text/x-python",
   "name": "python",
   "nbconvert_exporter": "python",
   "pygments_lexer": "ipython3",
   "version": "3.5.4"
  }
 },
 "nbformat": 4,
 "nbformat_minor": 2
}
