{
 "cells": [
  {
   "cell_type": "code",
   "execution_count": 1,
   "metadata": {
    "collapsed": true
   },
   "outputs": [],
   "source": [
    "import os\n",
    "import numpy as np\n",
    "import tensorflow as tf\n",
    "import warnings\n",
    "warnings.filterwarnings('ignore')\n",
    "from dog_images import DogImages\n",
    "from image_classifier import ImageClassifier\n",
    "from sklearn.model_selection import GridSearchCV\n",
    "import matplotlib.pyplot as plt"
   ]
  },
  {
   "cell_type": "code",
   "execution_count": 2,
   "metadata": {},
   "outputs": [
    {
     "name": "stdout",
     "output_type": "stream",
     "text": [
      "n02097474-Tibetan_terrier\n"
     ]
    }
   ],
   "source": [
    "picsize = 128\n",
    "# Step 1: Get List of Dogs\n",
    "lst = [x[0] for x in os.walk('../Images')]\n",
    "lst_dogs = [a.replace('../Images/', '') for a in lst[1:]]\n",
    "print(lst_dogs[0])"
   ]
  },
  {
   "cell_type": "code",
   "execution_count": 3,
   "metadata": {},
   "outputs": [
    {
     "name": "stdout",
     "output_type": "stream",
     "text": [
      "n02096177-cairn\n"
     ]
    }
   ],
   "source": [
    "# Step 2: Make the Images...\n",
    "dog_images = DogImages(lst_dogs, picsize)\n",
    "# dog_images.generate_img_files()\n",
    "train_imgs = dog_images.load_images('train')\n",
    "test_imgs = dog_images.load_images('test')\n",
    "Xtest = test_imgs[0]\n",
    "Ytest = test_imgs[1]\n",
    "Xtrain = train_imgs[0]\n",
    "Ytrain = train_imgs[1]\n",
    "print(lst_dogs[-1])"
   ]
  },
  {
   "cell_type": "code",
   "execution_count": 4,
   "metadata": {},
   "outputs": [
    {
     "name": "stdout",
     "output_type": "stream",
     "text": [
      "done\n"
     ]
    }
   ],
   "source": [
    "# Step 3: Initial Shuffle of Train & Test Sets\n",
    "Xhold = Xtrain.copy()\n",
    "Yhold = Ytrain.copy()\n",
    "new = np.array([i for i in range(Xhold.shape[0])])\n",
    "np.random.shuffle(new)\n",
    "for i, n in enumerate(new):\n",
    "    Xtrain[i, :] = Xhold[n, :]\n",
    "    Ytrain[i, :] = Yhold[n, :]\n",
    "\n",
    "Xhold = Xtest\n",
    "Yhold = Ytest\n",
    "new = np.array([i for i in range(Xhold.shape[0])])\n",
    "np.random.shuffle(new)\n",
    "for i, n in enumerate(new):\n",
    "    Xtest[i, :] = Xhold[n, :]\n",
    "    Ytest[i, :] = Yhold[n, :]\n",
    "print('done')"
   ]
  },
  {
   "cell_type": "code",
   "execution_count": 5,
   "metadata": {
    "collapsed": true
   },
   "outputs": [],
   "source": [
    "def shuffle_function(X, y):\n",
    "    Xhold = X.copy()\n",
    "    Yhold = y.copy()\n",
    "    new = np.array([i for i in range(Xhold.shape[0])])\n",
    "    np.random.shuffle(new)\n",
    "    for i, n in enumerate(new):\n",
    "        X[i, :] = Xhold[n, :]\n",
    "        y[i, :] = Yhold[n, :]\n",
    "    return X, y"
   ]
  },
  {
   "cell_type": "code",
   "execution_count": 6,
   "metadata": {
    "collapsed": true
   },
   "outputs": [],
   "source": [
    "def plot_learning(model):\n",
    "    plt.plot(list(range(len(model.loss_function))),\n",
    "             model.loss_function, color='y', label='Loss/Max Loss')\n",
    "    plt.plot(list(range(len(model.train_accuracies))),\n",
    "             (1/len(model.classes))*np.ones(len(model.train_accuracies)),\n",
    "             linestyle='-', label='chance')\n",
    "    plt.plot(list(range(len(model.train_accuracies))),\n",
    "             model.train_accuracies, color='r', label='Training')\n",
    "    plt.plot(list(range(len(model.val_accuracies))),\n",
    "             model.val_accuracies, color='b', label='Validation')\n",
    "    plt.ylabel('Probability')\n",
    "    plt.xlabel('Epochs')\n",
    "    plt.title('Accuracy & Loss')\n",
    "    plt.ylim(ymax=1)\n",
    "    plt.ylim(ymin=0)\n",
    "    plt.legend()\n",
    "    plt.show()"
   ]
  },
  {
   "cell_type": "code",
   "execution_count": 7,
   "metadata": {
    "collapsed": true
   },
   "outputs": [],
   "source": [
    "N = 50"
   ]
  },
  {
   "cell_type": "code",
   "execution_count": 8,
   "metadata": {
    "collapsed": true
   },
   "outputs": [],
   "source": [
    "# need 0:1 to get 0... it's a weird numpy thing\n",
    "# so for lst_dogs[N], go Yt...[:, N:N + 1] \n",
    "Ytrain_1 = np.zeros((Ytrain.shape[0],2))\n",
    "Ytest_1 = np.zeros((Ytest.shape[0],2))\n",
    "\n",
    "Ytrain_1[Ytrain[:,N]==1] = [1, 0]\n",
    "Ytrain_1[Ytrain[:,N]==0] = [0, 1]\n",
    "\n",
    "Ytest_1[Ytest[:,N]==1] = [1, 0]\n",
    "Ytest_1[Ytest[:,N]==0] = [0, 1]\n"
   ]
  },
  {
   "cell_type": "code",
   "execution_count": 9,
   "metadata": {},
   "outputs": [],
   "source": [
    "Ytrain_a = Ytrain_1[Ytrain_1[:,0] == 1]\n",
    "Xtrain_a = Xtrain[Ytrain_1[:,0] == 1]\n",
    "Ytrain_b = Ytrain_1[Ytrain_1[:,0] == 0][:3*Ytrain_a.shape[0]]\n",
    "Xtrain_b = Xtrain[Ytrain_1[:,0] == 0][:3*Ytrain_a.shape[0]]"
   ]
  },
  {
   "cell_type": "code",
   "execution_count": 10,
   "metadata": {},
   "outputs": [],
   "source": [
    "Ytrain_run = np.concatenate((Ytrain_a, Ytrain_b))\n",
    "Xtrain_run = np.concatenate((Xtrain_a, Xtrain_b))"
   ]
  },
  {
   "cell_type": "code",
   "execution_count": 11,
   "metadata": {},
   "outputs": [
    {
     "data": {
      "text/plain": [
       "array([[ 1.,  0.],\n",
       "       [ 1.,  0.],\n",
       "       [ 1.,  0.],\n",
       "       ..., \n",
       "       [ 0.,  1.],\n",
       "       [ 0.,  1.],\n",
       "       [ 0.,  1.]])"
      ]
     },
     "execution_count": 11,
     "metadata": {},
     "output_type": "execute_result"
    }
   ],
   "source": [
    "Ytrain_run"
   ]
  },
  {
   "cell_type": "code",
   "execution_count": 12,
   "metadata": {},
   "outputs": [
    {
     "name": "stdout",
     "output_type": "stream",
     "text": [
      "['n02099712-Labrador_retriever', 'None']\n"
     ]
    }
   ],
   "source": [
    "lst_dogs = [lst_dogs[N], 'None']\n",
    "print(lst_dogs)"
   ]
  },
  {
   "cell_type": "code",
   "execution_count": 13,
   "metadata": {},
   "outputs": [
    {
     "name": "stdout",
     "output_type": "stream",
     "text": [
      "[[ 0.  1.]\n",
      " [ 0.  1.]\n",
      " [ 1.  0.]\n",
      " ..., \n",
      " [ 0.  1.]\n",
      " [ 1.  0.]\n",
      " [ 0.  1.]]\n"
     ]
    }
   ],
   "source": [
    "\n",
    "Xtrain_run, Ytrain_run = shuffle_function(Xtrain_run, Ytrain_run)\n",
    "print(Ytrain_run)"
   ]
  },
  {
   "cell_type": "code",
   "execution_count": null,
   "metadata": {},
   "outputs": [
    {
     "name": "stdout",
     "output_type": "stream",
     "text": [
      "Percent Complete: 99.9375% - Train Accuracy: 75.510% - Validation Accuracy: 77.823% - Loss Function: 19.9778"
     ]
    },
    {
     "data": {
      "image/png": "[encoded data removed]",
      "text/plain": [
       "<matplotlib.figure.Figure at 0x7fa4f907cfd0>"
      ]
     },
     "metadata": {},
     "output_type": "display_data"
    },
    {
     "name": "stdout",
     "output_type": "stream",
     "text": [
      "0.992209\n"
     ]
    }
   ],
   "source": [
    "model = ImageClassifier(picsize, lst_dogs,\n",
    "                                 out_channels = 12,\n",
    "                                 out_channels_2 = 24,\n",
    "                                 hidden_units = 50,\n",
    "                                 regularization_strength = 1.0,\n",
    "                                 batch_size = 50,\n",
    "                                 learning_rate = 0.0001,\n",
    "                                 convolution_size = 5,\n",
    "                                 pool_size = 2,\n",
    "                                 training_epochs = 100,\n",
    "                                 loss_threshold = 0.01,\n",
    "                                 verbose=True,\n",
    "                                 grid_search=True)\n",
    "\n",
    "model.fit(Xtrain_run, Ytrain_run)\n",
    "plot_learning(model)\n",
    "score = model.score(Xtest, Ytest_1)\n",
    "print(score)"
   ]
  },
  {
   "cell_type": "code",
   "execution_count": null,
   "metadata": {},
   "outputs": [
    {
     "name": "stdout",
     "output_type": "stream",
     "text": [
      "Percent Complete: 99.9375% - Train Accuracy: 100.000% - Validation Accuracy: 71.371% - Loss Function: 50.41214"
     ]
    },
    {
     "data": {
      "image/png": "[encoded data removed]",
      "text/plain": [
       "<matplotlib.figure.Figure at 0x7fa5801856d8>"
      ]
     },
     "metadata": {},
     "output_type": "display_data"
    }
   ],
   "source": [
    "del model\n",
    "model = ImageClassifier(picsize, lst_dogs,\n",
    "                                 out_channels = 24,\n",
    "                                 out_channels_2 = 48,\n",
    "                                 hidden_units = 100,\n",
    "                                 regularization_strength = 1.0,\n",
    "                                 batch_size = 50,\n",
    "                                 learning_rate = 0.0001,\n",
    "                                 convolution_size = 5,\n",
    "                                 pool_size = 2,\n",
    "                                 training_epochs = 100,\n",
    "                                 loss_threshold = 0.01,\n",
    "                                 verbose=True,\n",
    "                                 grid_search=True)\n",
    "\n",
    "model.fit(Xtrain_run, Ytrain_run)\n",
    "plot_learning(model)\n",
    "score = model.score(Xtest, Ytest_1)\n",
    "print(score)"
   ]
  },
  {
   "cell_type": "code",
   "execution_count": null,
   "metadata": {
    "collapsed": true
   },
   "outputs": [],
   "source": []
  }
 ],
 "metadata": {
  "kernelspec": {
   "display_name": "Python 3",
   "language": "python",
   "name": "python3"
  },
  "language_info": {
   "codemirror_mode": {
    "name": "ipython",
    "version": 3
   },
   "file_extension": ".py",
   "mimetype": "text/x-python",
   "name": "python",
   "nbconvert_exporter": "python",
   "pygments_lexer": "ipython3",
   "version": "3.5.4"
  }
 },
 "nbformat": 4,
 "nbformat_minor": 2
}
